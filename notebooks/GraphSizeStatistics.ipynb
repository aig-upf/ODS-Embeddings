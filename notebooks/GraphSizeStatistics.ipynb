{
 "cells": [
  {
   "cell_type": "code",
   "execution_count": 2,
   "metadata": {},
   "outputs": [],
   "source": [
    "import igraph as ig\n",
    "\n",
    "\n",
    "def read_graph(graph_path, weighted=False, directed=False, verbose=1):\n",
    "    '''\n",
    "    Reads the input network in networkx.\n",
    "    '''\n",
    "    G = ig.Graph.Read_Ncol(graph_path, names=True, weights=weighted, directed=directed).simplify()\n",
    "\n",
    "    if verbose:\n",
    "        print('Total nodes: {}'.format(len(G.vs)))\n",
    "        print('Total edges: {}'.format(len(G.es)))\n",
    "    return G"
   ]
  },
  {
   "cell_type": "code",
   "execution_count": 7,
   "metadata": {},
   "outputs": [
    {
     "name": "stdout",
     "output_type": "stream",
     "text": [
      "Facebook\n",
      "Total nodes: 4039\n",
      "Total edges: 88234\n"
     ]
    },
    {
     "data": {
      "text/plain": [
       "0.5191742775433075"
      ]
     },
     "execution_count": 7,
     "metadata": {},
     "output_type": "execute_result"
    }
   ],
   "source": [
    "print('Facebook')\n",
    "G = read_graph('../graph/Facebook.edgelist')\n",
    "G.transitivity_undirected()"
   ]
  },
  {
   "cell_type": "code",
   "execution_count": 8,
   "metadata": {},
   "outputs": [
    {
     "name": "stdout",
     "output_type": "stream",
     "text": [
      "ArXiv\n",
      "Total nodes: 18772\n",
      "Total edges: 198050\n"
     ]
    },
    {
     "data": {
      "text/plain": [
       "0.3180015812533629"
      ]
     },
     "execution_count": 8,
     "metadata": {},
     "output_type": "execute_result"
    }
   ],
   "source": [
    "print('ArXiv')\n",
    "G = read_graph('../graph/CA-AstroPh.edgelist')\n",
    "G.transitivity_undirected()"
   ]
  },
  {
   "cell_type": "code",
   "execution_count": 9,
   "metadata": {},
   "outputs": [
    {
     "name": "stdout",
     "output_type": "stream",
     "text": [
      "PPI\n",
      "Total nodes: 44906\n",
      "Total edges: 613184\n"
     ]
    },
    {
     "data": {
      "text/plain": [
       "0.12359493942482318"
      ]
     },
     "execution_count": 9,
     "metadata": {},
     "output_type": "execute_result"
    }
   ],
   "source": [
    "print('PPI')\n",
    "G = read_graph('../graph/ppi/ppi-train.edgelist')\n",
    "G.transitivity_undirected()"
   ]
  }
 ],
 "metadata": {
  "kernelspec": {
   "display_name": "Python 2",
   "language": "python",
   "name": "python2"
  },
  "language_info": {
   "codemirror_mode": {
    "name": "ipython",
    "version": 2
   },
   "file_extension": ".py",
   "mimetype": "text/x-python",
   "name": "python",
   "nbconvert_exporter": "python",
   "pygments_lexer": "ipython2",
   "version": "2.7.15"
  }
 },
 "nbformat": 4,
 "nbformat_minor": 2
}
